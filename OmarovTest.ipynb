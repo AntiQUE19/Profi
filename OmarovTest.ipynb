{
 "cells": [
  {
   "cell_type": "markdown",
   "metadata": {},
   "source": [
    "# 1. Написать функцию на Python\n",
    "Напиши функцию, которая удалит дубликаты в списке. Список не отсортирован. Необходимо\n",
    "сохранить порядок сортировки оригинального списка.\n",
    "Примеры:\n",
    "\n",
    "● [1, 2, 3, 1] → [1, 2, 3]\n",
    "\n",
    "● [1, 3, 2, 1, 5, 3, 5, 1, 4] → [1, 3, 2, 5, 4]\n",
    "\n",
    "Какая асимптотическая сложность у этой функций?\n",
    "\n",
    "Если задание покажется слишком простым, можешь дополнительно написать юнит тест или\n",
    "doctest."
   ]
  },
  {
   "cell_type": "markdown",
   "metadata": {},
   "source": [
    "# Решение:\n",
    "Формирование словаря происходит за O(n), где n длина исходного списка. Далее за O(m) операций происходит преобразование из словаря в список, где m - размер словаря. Получаем сложность функции O(n+m), но так как m не превосходит n, имеем итоговую сложность O(n)."
   ]
  },
  {
   "cell_type": "markdown",
   "metadata": {},
   "source": [
    "# Функция"
   ]
  },
  {
   "cell_type": "code",
   "execution_count": 1,
   "metadata": {},
   "outputs": [],
   "source": [
    "def drop_dublicates(array):\n",
    "    return list(dict.fromkeys(array))"
   ]
  },
  {
   "cell_type": "markdown",
   "metadata": {},
   "source": [
    "# Юнит-тесты"
   ]
  },
  {
   "cell_type": "code",
   "execution_count": 2,
   "metadata": {},
   "outputs": [],
   "source": [
    "import unittest\n",
    "\n",
    "class TestFunction(unittest.TestCase):\n",
    "    def test_int_first(self):\n",
    "        self.assertEqual(drop_dublicates([1, 2, 3, 1]), [1, 2, 3])\n",
    "    \n",
    "    def test_int_second(self):\n",
    "        self.assertEqual(drop_dublicates([1, 3, 2, 1, 5, 3, 5, 1, 4]), [1, 3, 2, 5, 4])\n",
    "        \n",
    "    def test_float(self):\n",
    "        self.assertEqual(drop_dublicates([1.0, 3.0, -2.0, 1.1, -5.0, 5.0, 3.0, 5.0, 1.1, 4.2, -5.0]),\n",
    "                         [1.0, 3.0, -2.0, 1.1, -5.0, 5.0, 4.2])\n",
    "        \n",
    "    def test_complex(self):\n",
    "        self.assertEqual(drop_dublicates([1+1j, 2-1j, 1+1j, 3+5j, 3+5j, 2-1j]),\n",
    "                         [1+1j, 2-1j, 3+5j])\n",
    "    \n",
    "    def test_string(self):\n",
    "        self.assertEqual(drop_dublicates([\"hello\", \"World\", \"world\", \"Hello\", \"World\", \"world\", \"Hello\"]),\n",
    "                         [\"hello\", \"World\", \"world\", \"Hello\"])"
   ]
  },
  {
   "cell_type": "markdown",
   "metadata": {},
   "source": [
    "# Запуск тестов:"
   ]
  },
  {
   "cell_type": "code",
   "execution_count": 3,
   "metadata": {},
   "outputs": [
    {
     "name": "stderr",
     "output_type": "stream",
     "text": [
      "test_complex (__main__.TestFunction) ... ok\n",
      "test_float (__main__.TestFunction) ... ok\n",
      "test_int_first (__main__.TestFunction) ... ok\n",
      "test_int_second (__main__.TestFunction) ... ok\n",
      "test_string (__main__.TestFunction) ... ok\n",
      "\n",
      "----------------------------------------------------------------------\n",
      "Ran 5 tests in 0.011s\n",
      "\n",
      "OK\n"
     ]
    }
   ],
   "source": [
    "unittest.main(argv=[''], verbosity=2, exit=False);"
   ]
  },
  {
   "cell_type": "markdown",
   "metadata": {},
   "source": [
    "# 2. Написать SQL запрос\n",
    "Дана таблица employees всех сотрудников компании. Поля:\n",
    "\n",
    "● full_name TEXT (PK),\n",
    "\n",
    "● position TEXT,\n",
    "\n",
    "● department TEXT.\n",
    "\n",
    "Напиши запрос, выводящий все отделы, в которых меньше 5 разработчиков (position =\n",
    "'Software Developer')."
   ]
  },
  {
   "cell_type": "markdown",
   "metadata": {},
   "source": [
    "# Решение:\n",
    "SELECT department\n",
    "\n",
    "FROM employees\n",
    "\n",
    "WHERE position = 'Software Developer'\n",
    "\n",
    "GROUP BY department\n",
    "\n",
    "HAVING COUNT(full_name) < 5; "
   ]
  },
  {
   "cell_type": "markdown",
   "metadata": {},
   "source": [
    "# 3. Решить задачу\n",
    "Подкинули монету N раз. Кол-во случаев, когда выпал орёл, на 10% больше, чем кол-во\n",
    "случаев, когда выпала решка. При каком N мы можем сказать, что монета «нечестная» (орёл и\n",
    "решка выпадают с разной вероятностью)?\n"
   ]
  },
  {
   "cell_type": "markdown",
   "metadata": {},
   "source": [
    "# Решение:\n",
    "Пусть нулевая гипотеза $H_{0}$ заключается в том, что монета \"честная\", то есть вероятность выпадения орла равна p = 0.5. Альтернативная гипотеза $H_{1}$ заключается в том, что монета \"нечестная\": p > 0.5. Так как уровень значимости не указан, рассмотрим задачу для стандартного уровня значимости $\\alpha = 0.05.$ \n",
    "\n",
    "Рассмотрим количество выпадения орла K. В случае истинности нулевой гипотезы K является биномиальной случайной величиной Bi(N, 0.5). Тогда $K \\approx N(N*0.5, \\sqrt{N*0.5*0.5}) \\approx N(0.5N, 0.5\\sqrt{N}).$\n",
    "\n",
    "Найдем границу критической области по формуле $$Z_{1-2\\alpha} = Z_{0.9} = 1.645.$$\n",
    "$$x = 0.5N + 0.5*1.645*\\sqrt{N}$$\n",
    "Тогда для того, чтобы отвергнуть нулевую гипотезу нужно, чтобы значение выпадения орла было больше границы т.е. $$\\frac{11}{21}N > 0.5N + 0.5*1.645\\sqrt{N}$$\n",
    "или $$\\frac{22}{21}N > N + 1.645\\sqrt{N}$$\n",
    "$$\\frac{1}{21}N > 1.645\\sqrt{N}$$\n",
    "$$\\sqrt{N} > 34.545$$\n",
    "Откуда имеем $N > 1193.357.$\n",
    "То есть при $N \\geq 1194$ можно утверждать, что монета нечестная.\n",
    "\n",
    "Ответ: $N \\geq 1194$."
   ]
  }
 ],
 "metadata": {
  "kernelspec": {
   "display_name": "Python 3",
   "language": "python",
   "name": "python3"
  },
  "language_info": {
   "codemirror_mode": {
    "name": "ipython",
    "version": 3
   },
   "file_extension": ".py",
   "mimetype": "text/x-python",
   "name": "python",
   "nbconvert_exporter": "python",
   "pygments_lexer": "ipython3",
   "version": "3.6.10"
  }
 },
 "nbformat": 4,
 "nbformat_minor": 4
}
